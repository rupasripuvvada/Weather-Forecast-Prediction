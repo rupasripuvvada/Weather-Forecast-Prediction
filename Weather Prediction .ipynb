{
 "cells": [
  {
   "cell_type": "markdown",
   "id": "10fae55c-d704-4ae8-a359-f295b8347fb0",
   "metadata": {},
   "source": [
    "# Import Libraries\n"
   ]
  },
  {
   "cell_type": "code",
   "execution_count": 97,
   "id": "de4bf4a8-dfd0-4622-b9e3-98c37864258d",
   "metadata": {},
   "outputs": [],
   "source": [
    "import requests #Helps us fetch data from API\n",
    "import pandas as pd #For handling and analysing data\n",
    "import numpy as np #For numerical operations\n",
    "from sklearn.model_selection import train_test_split #Helps to split data into training and testing\n",
    "from sklearn.preprocessing import LabelEncoder #To convert catogerical data into numerical\n",
    "from sklearn.ensemble import RandomForestClassifier, RandomForestRegressor #models for classification and regression\n",
    "from sklearn.metrics import mean_squared_error #to measure accuracy of our prediction\n",
    "from datetime import datetime,timedelta #to handle date and time\n",
    "import pytz"
   ]
  },
  {
   "cell_type": "code",
   "execution_count": 99,
   "id": "191dbe98-7492-4fe4-96d7-ab86f12ac354",
   "metadata": {},
   "outputs": [],
   "source": [
    "API_KEY='6c367973a3bffcc04ddac9e0f9ebc035'\n",
    "BASE_URL='https://api.openweathermap.org/data/2.5/'\n"
   ]
  },
  {
   "cell_type": "markdown",
   "id": "d51ba4ab-c3b6-4dcc-8799-b95b69ba81dd",
   "metadata": {},
   "source": [
    "### 1. Fetch Current Weather Data"
   ]
  },
  {
   "cell_type": "code",
   "execution_count": 102,
   "id": "fa29e0a3-d688-432c-912a-dbe50e6581cb",
   "metadata": {},
   "outputs": [],
   "source": [
    "def get_current_weather(city):\n",
    "    url=f\"{BASE_URL}weather?q={city}&appid={API_KEY}&units=metric\" #construct the API request URL\n",
    "    response=requests.get(url) #send request to API\n",
    "    data=response.json()\n",
    "    return{\n",
    "        'city':data['name'],\n",
    "        'current_temp':round(data['main']['temp']),\n",
    "        'feels_like':round(data['main']['feels_like']),\n",
    "        'temp_min':round(data['main']['temp_min']),\n",
    "        'temp_max':round(data['main']['temp_max']),\n",
    "        'humidity':round(data['main']['humidity']),\n",
    "        'description':data['weather'][0]['description'],\n",
    "        'country':data['sys']['country'],\n",
    "        'wind_gust_dir':data['wind']['deg'],\n",
    "        'pressure':data['main']['pressure'],\n",
    "        'Wind_Gust_Speed':data['wind']['speed']\n",
    "        \n",
    "            }"
   ]
  },
  {
   "cell_type": "markdown",
   "id": "39f2fd5d-e066-4903-b87e-c705380b02e5",
   "metadata": {},
   "source": [
    "### 2. Reading Historical Data"
   ]
  },
  {
   "cell_type": "code",
   "execution_count": 105,
   "id": "0e571c00-60fd-4bfc-8e7b-18119fd0c33a",
   "metadata": {},
   "outputs": [],
   "source": [
    "def read_historical_data(filename):\n",
    "    df = pd.read_csv(filename)\n",
    "    print(f\"Original rows: {len(df)}\")\n",
    "    df = df.dropna()\n",
    "    df = df.drop_duplicates()\n",
    "    print(f\"Cleaned rows: {len(df)}\")\n",
    "    return df"
   ]
  },
  {
   "cell_type": "markdown",
   "id": "f5f7fd73-cd5f-4cdf-9378-0cae77a8c37f",
   "metadata": {},
   "source": [
    "### 3.Prepare data for training"
   ]
  },
  {
   "cell_type": "code",
   "execution_count": 108,
   "id": "61a362f1-8f7f-47ef-a927-f0fc13aa6a97",
   "metadata": {},
   "outputs": [],
   "source": [
    "def prepare_data(data):\n",
    "    le_dir = LabelEncoder()#Label Encoding\n",
    "    le_rain = LabelEncoder()\n",
    "\n",
    "    data['WindGustDir'] = le_dir.fit_transform(data['WindGustDir'])\n",
    "    data['RainTomorrow'] = le_rain.fit_transform(data['RainTomorrow'])\n",
    "\n",
    "    x = data.drop('RainTomorrow', axis=1)#feature variable\n",
    "    y = data['RainTomorrow']#target variable\n",
    "\n",
    "    return x, y, le_dir"
   ]
  },
  {
   "cell_type": "markdown",
   "id": "84d20bfe-66a5-45c4-81b3-ddd90ac99c09",
   "metadata": {},
   "source": [
    "### 4. Train Rain prediction model"
   ]
  },
  {
   "cell_type": "code",
   "execution_count": 111,
   "id": "d3264693-546a-4fe3-9d1c-b8c1656eb3a1",
   "metadata": {},
   "outputs": [],
   "source": [
    "def train_rain_model(x,y):\n",
    "    x_train,x_test,y_train,y_test=train_test_split(x,y,test_size=0.2,random_state=42)\n",
    "    model=RandomForestClassifier(n_estimators=100,random_state=42)\n",
    "    model.fit(x_train,y_train)\n",
    "    y_pred=model.predict(x_test)\n",
    "    print(\"Mean Squared Error for Rain Model\")\n",
    "    print(mean_squared_error(y_test,y_pred))\n",
    "    return model"
   ]
  },
  {
   "cell_type": "markdown",
   "id": "96b0873f-4c2f-4a68-96d9-7969120992f5",
   "metadata": {},
   "source": [
    "### 5. Prepare regression data"
   ]
  },
  {
   "cell_type": "code",
   "execution_count": 114,
   "id": "c3c22499-3d72-4ad0-9ef6-e907cf724716",
   "metadata": {},
   "outputs": [],
   "source": [
    "def prepare_regression_data(data,feature):\n",
    "    x,y=[],[] #intialize list for feature and target variable\n",
    "    for i in range(len(data)-1):\n",
    "        x.append(data[feature].iloc[i])\n",
    "        y.append(data[feature].iloc[i+1])\n",
    "\n",
    "    x=np.array(x).reshape(-1,1)\n",
    "    y=np.array(y)\n",
    "    return x,y\n",
    "       "
   ]
  },
  {
   "cell_type": "markdown",
   "id": "e2534529-0de8-45a3-9aec-a4444cbabdba",
   "metadata": {},
   "source": [
    "## Train Regression Model"
   ]
  },
  {
   "cell_type": "code",
   "execution_count": 117,
   "id": "394299b5-15cf-48da-af18-918a99d875b7",
   "metadata": {},
   "outputs": [],
   "source": [
    "def train_regression_model(X,y):\n",
    "    model=RandomForestRegressor(n_estimators=100,random_state=42)\n",
    "    model.fit(X,y)\n",
    "    return model"
   ]
  },
  {
   "cell_type": "markdown",
   "id": "b18e997c-d2c7-42ce-a31b-a3850b8202ce",
   "metadata": {},
   "source": [
    "## Predict Future "
   ]
  },
  {
   "cell_type": "code",
   "execution_count": 120,
   "id": "5e84d793-58ca-43f8-a906-906c0c53b735",
   "metadata": {},
   "outputs": [],
   "source": [
    "def predict_future(model,current_value):\n",
    "    predictions=[current_value]\n",
    "    for i in range(5):\n",
    "        next_value=model.predict(np.array([[predictions[-1]]]))\n",
    "        predictions.append(next_value[0])\n",
    "    return predictions[1:]"
   ]
  },
  {
   "cell_type": "markdown",
   "id": "131e7f25-1f6a-4a2c-af58-c62b12d9cc4f",
   "metadata": {},
   "source": [
    "## Weather Analysis Function"
   ]
  },
  {
   "cell_type": "code",
   "execution_count": 123,
   "id": "3c7575f6-124c-4a96-9b18-fe82c39b384f",
   "metadata": {},
   "outputs": [
    {
     "name": "stdin",
     "output_type": "stream",
     "text": [
      "Enter any city name: Narasaraopet\n"
     ]
    },
    {
     "name": "stdout",
     "output_type": "stream",
     "text": [
      "Original rows: 366\n",
      "Cleaned rows: 363\n",
      "Mean Squared Error for Rain Model\n",
      "0.1506849315068493\n",
      "City: Narasaraopet, IN\n",
      "Current Temperature: 33°C\n",
      "Feels Like: 35°C\n",
      "Minimum Temperature: 33°C\n",
      "Maximum Temperature: 33°C\n",
      "Humidity: 47%\n",
      "Rain Prediction: No\n",
      "\n",
      "Future Temperature Prediction\n",
      "18:00: 25.1°C\n",
      "19:00: 20.1°C\n",
      "20:00: 16.6°C\n",
      "21:00: 14.4°C\n",
      "22:00: 13.4°C\n",
      "\n",
      "Future Humidity Prediction\n",
      "18:00: 47.2%\n",
      "19:00: 47.2%\n",
      "20:00: 47.2%\n",
      "21:00: 47.2%\n",
      "22:00: 47.2%\n"
     ]
    }
   ],
   "source": [
    "def weather_view():\n",
    "    city = input(\"Enter any city name:\")\n",
    "    current_weather = get_current_weather(city)\n",
    "\n",
    "    # Load historical data\n",
    "    historical_data = read_historical_data('weather.csv')\n",
    "\n",
    "    # Prepare and train the rain prediction model\n",
    "    x, y, le = prepare_data(historical_data)\n",
    "    rain_model = train_rain_model(x, y)\n",
    "\n",
    "    # Map wind direction to compass points\n",
    "    wind_deg = current_weather['wind_gust_dir'] % 360\n",
    "    compass_points = [\n",
    "        (\"N\", 0, 11.25), (\"NNE\", 11.25, 33.75), (\"NE\", 33.75, 56.25),\n",
    "        (\"ENE\", 56.25, 78.75), (\"E\", 78.75, 101.25), (\"ESE\", 101.25, 123.75),\n",
    "        (\"SE\", 123.75, 146.25), (\"SSE\", 146.25, 168.75), (\"S\", 168.75, 191.25),\n",
    "        (\"SSW\", 191.25, 213.75), (\"SW\", 213.75, 236.25), (\"WSW\", 236.25, 258.75),\n",
    "        (\"W\", 258.75, 281.25), (\"WNW\", 281.25, 303.75), (\"NW\", 303.75, 326.25),\n",
    "        (\"NNW\", 326.25, 348.75), (\"N\", 348.75, 360)\n",
    "    ]\n",
    "    compass_direction = next(point for point, start, end in compass_points if start <= wind_deg < end)\n",
    "    compass_direction_encoded = le.transform([compass_direction])[0] if compass_direction in le.classes_ else -1\n",
    "\n",
    "    current_data = {\n",
    "        'MinTemp': current_weather['temp_min'],\n",
    "        'MaxTemp': current_weather['temp_max'],\n",
    "        'WindGustDir': compass_direction_encoded,\n",
    "        'WindGustSpeed': current_weather['Wind_Gust_Speed'],\n",
    "        'Humidity': current_weather['humidity'],\n",
    "        'Pressure': current_weather['pressure'],\n",
    "        'Temp': current_weather['current_temp'],\n",
    "    }\n",
    "\n",
    "    current_df = pd.DataFrame([current_data])\n",
    "    rain_prediction = rain_model.predict(current_df)[0]\n",
    "\n",
    "    # Prepare regression models\n",
    "    x_temp, y_temp = prepare_regression_data(historical_data, 'Temp')\n",
    "    x_hum, y_hum = prepare_regression_data(historical_data, 'Humidity')\n",
    "\n",
    "    temp_model = train_regression_model(x_temp, y_temp)\n",
    "    hum_model = train_regression_model(x_hum, y_hum)\n",
    "\n",
    "    # Predict future temperature and humidity\n",
    "    future_temp = predict_future(temp_model, current_weather['temp_min'])\n",
    "    future_humidity = predict_future(hum_model, current_weather['humidity'])\n",
    "\n",
    "    # Prepare time for the future prediction\n",
    "    timezone = pytz.timezone('Asia/Karachi')\n",
    "    now = datetime.now(timezone)\n",
    "    next_hour = now + timedelta(hours=1)\n",
    "    next_hour = next_hour.replace(minute=0, second=0, microsecond=0)\n",
    "    future_times = [(next_hour + timedelta(hours=i)).strftime(\"%H:00\") for i in range(5)]\n",
    "\n",
    "    # Display results\n",
    "    print(f\"City: {city}, {current_weather['country']}\")\n",
    "    print(f\"Current Temperature: {current_weather['current_temp']}°C\")\n",
    "    print(f\"Feels Like: {current_weather['feels_like']}°C\")\n",
    "    print(f\"Minimum Temperature: {current_weather['temp_min']}°C\")\n",
    "    print(f\"Maximum Temperature: {current_weather['temp_max']}°C\")\n",
    "    print(f\"Humidity: {current_weather['humidity']}%\")\n",
    "    print(f\"Rain Prediction: {'Yes' if rain_prediction else 'No'}\")\n",
    "\n",
    "    print(\"\\nFuture Temperature Prediction\")\n",
    "    for time, temp in zip(future_times, future_temp):\n",
    "        print(f\"{time}: {round(temp, 1)}°C\")\n",
    "\n",
    "    print(\"\\nFuture Humidity Prediction\")\n",
    "    for time, humidity in zip(future_times, future_humidity):\n",
    "        print(f\"{time}: {round(humidity, 1)}%\")\n",
    "\n",
    "# Call the function\n",
    "weather_view()"
   ]
  },
  {
   "cell_type": "code",
   "execution_count": null,
   "id": "46897081-fb0d-41d2-a061-b03bb96eed84",
   "metadata": {},
   "outputs": [],
   "source": []
  }
 ],
 "metadata": {
  "kernelspec": {
   "display_name": "Python [conda env:base] *",
   "language": "python",
   "name": "conda-base-py"
  },
  "language_info": {
   "codemirror_mode": {
    "name": "ipython",
    "version": 3
   },
   "file_extension": ".py",
   "mimetype": "text/x-python",
   "name": "python",
   "nbconvert_exporter": "python",
   "pygments_lexer": "ipython3",
   "version": "3.12.7"
  }
 },
 "nbformat": 4,
 "nbformat_minor": 5
}
